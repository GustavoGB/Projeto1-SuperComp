{
 "cells": [
  {
   "cell_type": "markdown",
   "metadata": {},
   "source": [
    "### Super Computação Projeto 1 (Entrega parcial 1) "
   ]
  },
  {
   "cell_type": "markdown",
   "metadata": {},
   "source": [
    "# Projeto1-SuperComp\n",
    "\n",
    "## O que vamos resolver:\n",
    "\n",
    "### Estamos tentando resolver um problema que envolve em como alocar um aluno dos últimos semestres de engenharia em seu projeto final, baseando-se em suas prefêrencias. Como dito no enunciado, o problema parece simples mas de fato não é, ja que ele é um problema NP-completo. Isto é, não existe um método que encontra a solução com maior satisfação global em tempo polinomial.\n",
    "\n",
    "### As entradas para o nosso programa terão o seguinte formato:\n",
    "    \n",
    "* n_aluno     ->            **representa o numero de alunos** \n",
    "* n_projetos     ->            **reprenta o numero de projetos existentes**\n",
    "* A proxima linha representa as 5 prioridades de um aluno somente\n",
    "* p1,..,p5       ->  **um numero entre 0 e n_projetos -1, sem repeticoes**\n",
    "\n",
    "### Já para as saídas teremos o seguinte formato:\n",
    "* satisfacao \n",
    "* opt  **Optimizacao caso seja 1 e a melhor solucao possivel, 0 caso contrario**\n",
    "* pa(i) **possui qual projeto o aluno i foi atribuido**\n",
    "\n",
    "### Como ponto de partida temos uma versão que resolvera o problema em python que chama ingenuo.py, nossa primeira tarefa será traduzir esta versão em uma que seja escrita em C++ e comparar qual a diferença da velocidade entre estas versões ingenuas mudando a entrada. \n",
    "\n",
    "### Foi assumido que :\n",
    "* o n_aluno e sempre divisivel por 3 \n",
    "* n_projeto sempre sera n_alunos/3\n",
    "\n",
    "## Arquitetura\n",
    "\n",
    "* Como início temos uma função em python chamada cria-entrada.py que cria nossas entradas para realizar os testes, para isso executou-se este arquivo salvando em um arquivo para ser utilizado também para a solução em c++.\n",
    "\n",
    "python3 cria-entrada.py > entrada_1_oficial\n",
    "python3 cria-entrada.py > entrada_2_oficial\n",
    "python3 cria-entrada.py > entrada_3_oficial\n",
    "\n",
    "* A entrada número 1 utiliza 6 projetos para serem alocados para os alunos.\n",
    "* A entrada número 2 utiliza 9 projetos para serem alocados para os alunos.\n",
    "* A entrada número 3 utiliza 12 projetos para serem alocados para os alunos.\n",
    "\n",
    "* Esperamos que conforme a entrada cresca a diferença entre as duas linguagens se mostre clara, já que só pelo fato de python ser interpretada e c++ ser compilada, temos cerca de 10x mais velocidade utilizando o c++. Mas isso ficará claro ao final dos gráficos.\n",
    "\n",
    "* Temos uma arquitetura por enquanto que envolve um programa python3 ingenuo.py com a função que foi feita a tradução chamada de escolhe_aluno(). O passo a passo de conversão envolveu principalmente olhar os tipos das variáveis e quais operações e funções eram compatíveis no C++. Por exemplo, no primeiro if da função, compara-se com o len() de aluno_projeto. Para isso pesquisou-se a função size() no C++ para pegar o tamanho desse vector, e assim por diante. \n",
    "* Além disso, foi necessário utilizar o Cmake para facilitar o processo de compilação quando o projeto ficar maior e também para gerar executáveis com flags de optimização nas próximas etapas. Neste primeiro momento iremos gerar apenas um executável a partir do arquivo ingenuo.cpp chamado ingenuo. "
   ]
  },
  {
   "cell_type": "markdown",
   "metadata": {},
   "source": [
    "## Gráficos e automatização\n",
    "\n",
    "* Para esta parte do relatório serão utilizadas algumas ferramentas do python para conseguir plotar os gráficos, conseguir automatizar a criação do binário com comandos do terminal **(os(subprocess))**. \n",
    "* Além de utilizar a biblioteca time.time() para conseguir medir o tempo de cada uma das soluções baseando-se em cada uma das entradas. Seria possível pegar o tempo de execução dos programas através da biblioteca chrno no c++ mas optou-se por realizar por aqui só por código ficar mais legível. \n",
    " "
   ]
  },
  {
   "cell_type": "code",
   "execution_count": 85,
   "metadata": {},
   "outputs": [],
   "source": [
    "import time\n",
    "import sys,os,subprocess\n",
    "import matplotlib.pyplot as plt\n",
    "from subprocess import call"
   ]
  },
  {
   "cell_type": "markdown",
   "metadata": {},
   "source": [
    "## Contar o tempo para o Python"
   ]
  },
  {
   "cell_type": "markdown",
   "metadata": {},
   "source": [
    "* Python Entrada1:"
   ]
  },
  {
   "cell_type": "code",
   "execution_count": 98,
   "metadata": {},
   "outputs": [],
   "source": [
    "start = time.time()\n",
    "\n",
    "output_1_python = subprocess.run(\"python3 ingenuo.py  < entrada_1_oficial\", shell = True)\n",
    "\n",
    "time_1_python = (time.time() - start)"
   ]
  },
  {
   "cell_type": "markdown",
   "metadata": {},
   "source": [
    "* Python Entrada2:"
   ]
  },
  {
   "cell_type": "code",
   "execution_count": 99,
   "metadata": {},
   "outputs": [],
   "source": [
    "start = time.time()\n",
    "\n",
    "output_2_python = subprocess.call(\"python3 ingenuo.py < entrada_2_oficial\", shell = True)\n",
    "\n",
    "time_2_python = (time.time() - start)"
   ]
  },
  {
   "cell_type": "markdown",
   "metadata": {},
   "source": [
    "* Python Entrada3:"
   ]
  },
  {
   "cell_type": "code",
   "execution_count": 102,
   "metadata": {},
   "outputs": [],
   "source": [
    "start = time.time()\n",
    "\n",
    "output_3_python = subprocess.call(\"python3 ingenuo.py < entrada_3_oficial\",shell = True)\n",
    "\n",
    "time_3_python = (time.time()-start)"
   ]
  },
  {
   "cell_type": "markdown",
   "metadata": {},
   "source": [
    "## Resultados Python"
   ]
  },
  {
   "cell_type": "code",
   "execution_count": 101,
   "metadata": {},
   "outputs": [
    {
     "name": "stdout",
     "output_type": "stream",
     "text": [
      "Python entrada_1_oficial: 0.01296544075012207 segundos\n",
      "Python entrada_2_oficial: 0.014939069747924805 segundos\n",
      "Python entrada_3_oficial: 0.013962984085083008 segundos\n"
     ]
    }
   ],
   "source": [
    "print(\"Python entrada_1_oficial: \" + str(time_1_python) + (\" segundos\"))\n",
    "print(\"Python entrada_2_oficial: \" + str(time_2_python) + (\" segundos\"))\n",
    "print(\"Python entrada_3_oficial: \" + str(time_3_python) + (\" segundos\"))"
   ]
  },
  {
   "cell_type": "markdown",
   "metadata": {},
   "source": [
    "* C++ Entrada1:"
   ]
  },
  {
   "cell_type": "code",
   "execution_count": 91,
   "metadata": {},
   "outputs": [],
   "source": [
    "start = time.time()\n",
    "\n",
    "output_1_cpp = subprocess.call(\"build/ingenuo < entrada_1_oficial\",shell = True)\n",
    "\n",
    "time_1_cpp = (time.time()-start)"
   ]
  },
  {
   "cell_type": "markdown",
   "metadata": {},
   "source": [
    "* C++ Entrada2:"
   ]
  },
  {
   "cell_type": "code",
   "execution_count": 92,
   "metadata": {},
   "outputs": [],
   "source": [
    "start = time.time()\n",
    "\n",
    "output_2_cpp = subprocess.call(\"build/ingenuo < entrada_2_oficial\",shell = True)\n",
    "\n",
    "time_2_cpp = (time.time()-start)"
   ]
  },
  {
   "cell_type": "markdown",
   "metadata": {},
   "source": [
    "* C++ Entrada3:"
   ]
  },
  {
   "cell_type": "code",
   "execution_count": 93,
   "metadata": {},
   "outputs": [],
   "source": [
    "start = time.time()\n",
    "\n",
    "output_3_cpp = subprocess.call(\"build/ingenuo < entrada_3_oficial\",shell = True)\n",
    "\n",
    "time_3_cpp = (time.time()-start)"
   ]
  },
  {
   "cell_type": "code",
   "execution_count": 94,
   "metadata": {},
   "outputs": [
    {
     "name": "stdout",
     "output_type": "stream",
     "text": [
      "C++ entrada_1_oficial: 0.01495981216430664 segundos\n",
      "C++ entrada_2_oficial: 0.01695394515991211 segundos\n",
      "C++ entrada_3_oficial: 0.012964725494384766 segundos\n"
     ]
    }
   ],
   "source": [
    "print(\"C++ entrada_1_oficial: \" + str(time_1_cpp) + (\" segundos\"))\n",
    "print(\"C++ entrada_2_oficial: \" + str(time_2_cpp) + (\" segundos\"))\n",
    "print(\"C++ entrada_3_oficial: \" + str(time_3_cpp) + (\" segundos\"))"
   ]
  },
  {
   "cell_type": "code",
   "execution_count": null,
   "metadata": {},
   "outputs": [],
   "source": []
  },
  {
   "cell_type": "code",
   "execution_count": null,
   "metadata": {},
   "outputs": [],
   "source": []
  }
 ],
 "metadata": {
  "kernelspec": {
   "display_name": "Python 3",
   "language": "python",
   "name": "python3"
  },
  "language_info": {
   "codemirror_mode": {
    "name": "ipython",
    "version": 3
   },
   "file_extension": ".py",
   "mimetype": "text/x-python",
   "name": "python",
   "nbconvert_exporter": "python",
   "pygments_lexer": "ipython3",
   "version": "3.7.3"
  }
 },
 "nbformat": 4,
 "nbformat_minor": 2
}
